{
 "cells": [
  {
   "cell_type": "markdown",
   "metadata": {
    "id": "x13P0zpif7vp"
   },
   "source": [
    "## Mounting Google Drive"
   ]
  },
  {
   "cell_type": "code",
   "execution_count": null,
   "metadata": {
    "colab": {
     "base_uri": "https://localhost:8080/"
    },
    "id": "DGNp_ehXftUC",
    "outputId": "a6f6b515-6884-4a41-f03b-661fbf91925d"
   },
   "outputs": [
    {
     "name": "stdout",
     "output_type": "stream",
     "text": [
      "Mounted at /content/drive\n"
     ]
    }
   ],
   "source": [
    "from google.colab import drive\n",
    "drive.mount('/content/drive')"
   ]
  },
  {
   "cell_type": "markdown",
   "metadata": {
    "id": "qvpll-ZMhNHS"
   },
   "source": [
    "## Unzipping the data folder"
   ]
  },
  {
   "cell_type": "code",
   "execution_count": null,
   "metadata": {
    "id": "F26uDtujhPBo"
   },
   "outputs": [],
   "source": [
    "import zipfile\n",
    "with zipfile.ZipFile(\"/content/drive/MyDrive/smai_a4/fashion_mnist.zip\", 'r') as zip_ref:\n",
    "    zip_ref.extractall(\"/content\")\n",
    "\n",
    "!rm -rf /content/__MACOSX"
   ]
  },
  {
   "cell_type": "markdown",
   "metadata": {
    "id": "4KVhnNfVgADX"
   },
   "source": [
    "## Solving Fragmentation issue for memory"
   ]
  },
  {
   "cell_type": "code",
   "execution_count": null,
   "metadata": {
    "id": "eDsTBQT8gEm0"
   },
   "outputs": [],
   "source": [
    "import os\n",
    "os.environ['PYTORCH_CUDA_ALLOC_CONF'] = 'expandable_segments:True'"
   ]
  },
  {
   "cell_type": "markdown",
   "metadata": {
    "id": "0GiK8r5SgoZW"
   },
   "source": [
    "## Imports"
   ]
  },
  {
   "cell_type": "code",
   "execution_count": null,
   "metadata": {
    "id": "3hJraIqygqpe"
   },
   "outputs": [],
   "source": [
    "import struct\n",
    "import numpy as np\n",
    "import cv2\n",
    "import matplotlib.pyplot as plt\n",
    "import time\n",
    "import torch\n",
    "import torch.nn as nn"
   ]
  },
  {
   "cell_type": "markdown",
   "metadata": {
    "id": "pSwtW5zTgWSn"
   },
   "source": [
    "## Data loader"
   ]
  },
  {
   "cell_type": "code",
   "execution_count": null,
   "metadata": {
    "id": "gzRIM3uXgaoO"
   },
   "outputs": [],
   "source": [
    "class MultiMNISTDataset:\n",
    "    def __init__(self, data, labels, batch_size=32, shuffle=True, task=\"classification\"):\n",
    "        self.data = data\n",
    "        self.labels = labels\n",
    "        self.batch_size = batch_size\n",
    "        self.shuffle = shuffle\n",
    "        self.indexes = np.arange(len(self.data))  # Track the indexes for shuffling\n",
    "        self.current_index = 0\n",
    "        self.task = task\n",
    "\n",
    "        if self.shuffle:\n",
    "            self._shuffle_data()\n",
    "\n",
    "    def _shuffle_data(self):\n",
    "        np.random.shuffle(self.indexes)\n",
    "\n",
    "    def __len__(self):\n",
    "        return int(np.ceil(len(self.data) / self.batch_size))\n",
    "\n",
    "    def __iter__(self):\n",
    "        self.current_index = 0\n",
    "        if self.shuffle:\n",
    "            self._shuffle_data()\n",
    "        return self\n",
    "\n",
    "    def __next__(self):\n",
    "        if self.current_index >= len(self.data):\n",
    "            raise StopIteration\n",
    "\n",
    "        # Compute the indices of the current batch\n",
    "        start_idx = self.current_index\n",
    "        end_idx = min(start_idx + self.batch_size, len(self.data))\n",
    "\n",
    "        # Fetch the batch data and labels\n",
    "        batch_indexes = self.indexes[start_idx:end_idx]\n",
    "        batch_data = self.data[batch_indexes]\n",
    "        batch_labels = self.labels[batch_indexes]\n",
    "\n",
    "        # Update the current index\n",
    "        self.current_index = end_idx\n",
    "\n",
    "        # Convert NumPy arrays to PyTorch tensors\n",
    "        batch_data_tensor = torch.from_numpy(batch_data).float()\n",
    "        if self.task == \"classification\":\n",
    "            batch_labels_tensor = torch.from_numpy(batch_labels).long()\n",
    "        elif self.task == \"regression\":\n",
    "            batch_labels_tensor = torch.from_numpy(batch_labels).float()\n",
    "\n",
    "        return batch_data_tensor, batch_labels_tensor"
   ]
  },
  {
   "cell_type": "markdown",
   "metadata": {
    "id": "AlM75wl7hK5f"
   },
   "source": [
    "## MLP Autoencoder Class"
   ]
  },
  {
   "cell_type": "code",
   "execution_count": null,
   "metadata": {
    "id": "4JmWw6ZyhLTH"
   },
   "outputs": [],
   "source": [
    "class MLP_Autoencoder(nn.Module):\n",
    "    def __init__(self, act_func: str, lr: float, dropout: float, optimiser: str):\n",
    "        super(MLP_Autoencoder, self).__init__()\n",
    "\n",
    "        self.loss = nn.MSELoss()\n",
    "\n",
    "        if act_func == 'relu':\n",
    "            self.activation = torch.relu\n",
    "        elif act_func == 'sigmoid':\n",
    "            self.activation = torch.sigmoid\n",
    "        elif act_func == 'tanh':\n",
    "            self.activation = torch.tanh\n",
    "        else:\n",
    "            raise ValueError('Activation function not supported.')\n",
    "\n",
    "        self.lr = lr\n",
    "        self.dropout = dropout\n",
    "        self.op = optimiser\n",
    "\n",
    "        # Encoder Layers\n",
    "        self.fc1 = nn.Linear(28 * 28, 1024)\n",
    "        self.fc2 = nn.Linear(1024, 512)\n",
    "        self.fc3 = nn.Linear(512, 256)\n",
    "        self.fc4 = nn.Linear(256, 128)\n",
    "\n",
    "        # Decoder Layers\n",
    "        self.fc5 = nn.Linear(128, 256)\n",
    "        self.fc6 = nn.Linear(256, 512)\n",
    "        self.fc7 = nn.Linear(512, 1024)\n",
    "        self.fc8 = nn.Linear(1024, 28 * 28)\n",
    "\n",
    "        self.normalise = nn.Sigmoid()\n",
    "\n",
    "    def encoder(self, x):\n",
    "        x = self.activation(self.fc1(x))\n",
    "        x = self.activation(self.fc2(x))\n",
    "        x = self.activation(self.fc3(x))\n",
    "        x = self.fc4(x)\n",
    "        return x\n",
    "\n",
    "    def decoder(self, x):\n",
    "        x = self.activation(self.fc5(x))\n",
    "        x = self.activation(self.fc6(x))\n",
    "        x = self.activation(self.fc7(x))\n",
    "        x = self.fc8(x)\n",
    "        x = self.normalise(x)\n",
    "        return x\n",
    "\n",
    "    def forward(self, x):\n",
    "        encoded = self.encoder(x)\n",
    "        decoded = self.decoder(encoded)\n",
    "        return decoded\n",
    "\n",
    "    def train_model(self, x, y, val_x, val_y, epochs, batch_size=32, weight_decay=1e-5):\n",
    "        self.batch_size = batch_size\n",
    "        torch.cuda.empty_cache()\n",
    "        if self.op == 'adam':\n",
    "            self.optimiser = torch.optim.Adam(self.parameters(), lr=self.lr, weight_decay=weight_decay)\n",
    "        elif self.op == 'sgd':\n",
    "            self.optimiser = torch.optim.SGD(self.parameters(), lr=self.lr, weight_decay=weight_decay)\n",
    "        else:\n",
    "            raise ValueError('Optimiser not supported.')\n",
    "\n",
    "        device = torch.device('cuda' if torch.cuda.is_available() else 'cpu')\n",
    "        train_dataloader = MultiMNISTDataset(x, y, batch_size=batch_size, task=\"regression\")\n",
    "        val_dataloader = MultiMNISTDataset(val_x, val_y, batch_size=batch_size, task=\"regression\")\n",
    "\n",
    "        train_loss_arr = list()\n",
    "        val_loss_arr = list()\n",
    "\n",
    "        train_iters = len(train_dataloader)\n",
    "        val_iters = len(val_dataloader)\n",
    "\n",
    "        for epoch in range(epochs):\n",
    "            total_train_loss = 0\n",
    "            total_val_loss = 0\n",
    "\n",
    "            # Switching model to training mode\n",
    "            self.train()\n",
    "\n",
    "            for i, (images, labels) in enumerate(train_dataloader):\n",
    "                train_images = images.to(device)\n",
    "                train_labels = labels.to(device)\n",
    "\n",
    "                # Forward Pass\n",
    "                train_outputs = self.forward(train_images)\n",
    "                train_loss = self.loss(train_outputs, train_labels)\n",
    "                total_train_loss += train_loss.item()\n",
    "\n",
    "                # Backward Pass\n",
    "                self.optimiser.zero_grad()\n",
    "                train_loss.backward()\n",
    "                self.optimiser.step()\n",
    "            avg_train_loss = total_train_loss / train_iters\n",
    "            train_loss_arr.append(avg_train_loss)\n",
    "            print(f'Epoch {epoch+1}/{epochs} done, Train Loss: {avg_train_loss}')\n",
    "\n",
    "            # Switching model to evaluation mode\n",
    "            self.eval()\n",
    "\n",
    "            # Calculating validation loss\n",
    "            with torch.no_grad():\n",
    "                for i, (val_images, val_labels) in enumerate(val_dataloader):\n",
    "                    val_images = val_images.to(device)\n",
    "                    val_labels = val_labels.to(device)\n",
    "                    val_outputs = self.forward(val_images)\n",
    "                    val_loss = self.loss(val_outputs, val_labels).item()\n",
    "                    total_val_loss += val_loss\n",
    "                avg_val_loss = total_val_loss / val_iters\n",
    "                val_loss_arr.append(avg_val_loss)\n",
    "\n",
    "        return train_loss_arr, val_loss_arr\n",
    "\n",
    "    def get_latent_space(self, x, y):\n",
    "        self.eval()\n",
    "        device = torch.device('cuda' if torch.cuda.is_available() else 'cpu')\n",
    "        dataloader = MultiMNISTDataset(x, y, batch_size=self.batch_size, task=\"regression\")\n",
    "        encoded_reps = list()\n",
    "        with torch.no_grad():\n",
    "            for images, labels in dataloader:\n",
    "                images = images.to(device)\n",
    "                outputs = self.encoder(images)\n",
    "                encoded_reps.append(outputs.detach().cpu().numpy())\n",
    "        encoded_reps = np.array(encoded_reps)\n",
    "        return encoded_reps\n",
    "\n",
    "    def reconstruction_error(self, x, y):\n",
    "        self.eval()\n",
    "        device = torch.device('cuda' if torch.cuda.is_available() else 'cpu')\n",
    "        dataloader = MultiMNISTDataset(x, y, batch_size=self.batch_size, task=\"regression\")\n",
    "        iters = len(dataloader)\n",
    "        total_loss = 0\n",
    "        with torch.no_grad():\n",
    "            for images, labels in dataloader:\n",
    "                images = images.to(device)\n",
    "                labels = labels.to(device)\n",
    "                outputs = self.forward(images)\n",
    "                total_loss += self.loss(outputs, labels).item()\n",
    "        return total_loss / iters"
   ]
  },
  {
   "cell_type": "markdown",
   "metadata": {
    "id": "-Tg2D9dPhBIZ"
   },
   "source": [
    "## Function to read dataset"
   ]
  },
  {
   "cell_type": "code",
   "execution_count": null,
   "metadata": {
    "id": "HxsA_y40hEXz"
   },
   "outputs": [],
   "source": [
    "def read_idx3_ubyte(filename):\n",
    "    with open(filename, 'rb') as f:\n",
    "        # Read the magic number and dimensions of the dataset\n",
    "        magic, num_images, rows, cols = struct.unpack('>IIII', f.read(16))\n",
    "\n",
    "        # Read the rest of the data\n",
    "        images = np.frombuffer(f.read(), dtype=np.uint8)\n",
    "\n",
    "        # Reshape to [num_images, rows, cols]\n",
    "        images = images.reshape(num_images, rows, cols)\n",
    "\n",
    "    return images\n",
    "\n",
    "def read_idx1_ubyte(filename):\n",
    "    with open(filename, 'rb') as f:\n",
    "        # Read the magic number and number of items\n",
    "        magic, num_items = struct.unpack('>II', f.read(8))\n",
    "\n",
    "        # Read the label data\n",
    "        labels = np.frombuffer(f.read(), dtype=np.uint8)\n",
    "\n",
    "    return labels"
   ]
  },
  {
   "cell_type": "markdown",
   "metadata": {
    "id": "FOFaSC46hiQn"
   },
   "source": [
    "## Reading and preprocessing data"
   ]
  },
  {
   "cell_type": "code",
   "execution_count": null,
   "metadata": {
    "colab": {
     "base_uri": "https://localhost:8080/"
    },
    "id": "4oVu3vMxhkFD",
    "outputId": "477e1edc-c92b-4574-f26d-c0eccf0cb38d"
   },
   "outputs": [
    {
     "name": "stdout",
     "output_type": "stream",
     "text": [
      "Train, test and val data normalised.\n",
      "Train, test and val images flattened.\n"
     ]
    }
   ],
   "source": [
    "train_images = read_idx3_ubyte(\"/content/fashion_mnist/train-images-idx3-ubyte\")\n",
    "test_images = read_idx3_ubyte(\"/content/fashion_mnist/t10k-images-idx3-ubyte\")\n",
    "train_labels = read_idx1_ubyte(\"/content/fashion_mnist/train-labels-idx1-ubyte\")\n",
    "test_labels = read_idx1_ubyte(\"/content/fashion_mnist/t10k-labels-idx1-ubyte\")\n",
    "\n",
    "# Taking the first 50k images as train set and rest 10k images as val set\n",
    "train_images, val_images = train_images[:50000], train_images[50000:60000]\n",
    "train_labels, val_labels = train_labels[:50000], train_labels[50000:60000]\n",
    "\n",
    "# Converting all the images to the range of [0, 1]\n",
    "train_images, test_images, val_images = train_images / 255.0, test_images / 255.0, val_images / 255.0\n",
    "print(\"Train, test and val data normalised.\")\n",
    "\n",
    "# Flattening the train, test and val images\n",
    "flattened_train_imgs = list()\n",
    "for img in train_images:\n",
    "    flattened_train_imgs.append(img.flatten())\n",
    "flattened_train_imgs = np.array(flattened_train_imgs)\n",
    "\n",
    "flattened_test_imgs = list()\n",
    "for img in test_images:\n",
    "    flattened_test_imgs.append(img.flatten())\n",
    "flattened_test_imgs = np.array(flattened_test_imgs)\n",
    "\n",
    "flattened_val_imgs = list()\n",
    "for img in val_images:\n",
    "    flattened_val_imgs.append(img.flatten())\n",
    "flattened_val_imgs = np.array(flattened_val_imgs)\n",
    "\n",
    "print(\"Train, test and val images flattened.\")"
   ]
  },
  {
   "cell_type": "markdown",
   "metadata": {
    "id": "aC8x_y-pXRYZ"
   },
   "source": [
    "## Selecting device and epochs"
   ]
  },
  {
   "cell_type": "code",
   "execution_count": null,
   "metadata": {
    "colab": {
     "base_uri": "https://localhost:8080/"
    },
    "id": "li07iQyAXRF2",
    "outputId": "bf75293b-3e35-419c-cbe0-ec753323c008"
   },
   "outputs": [
    {
     "name": "stdout",
     "output_type": "stream",
     "text": [
      "Device: cuda\n"
     ]
    }
   ],
   "source": [
    "device = torch.device('cuda' if torch.cuda.is_available() else 'cpu')\n",
    "n_epochs = 100\n",
    "\n",
    "print(\"Device:\", device)"
   ]
  },
  {
   "cell_type": "markdown",
   "metadata": {
    "id": "Z_xxPq7mho5T"
   },
   "source": [
    "## Training MLP Autoencoder"
   ]
  },
  {
   "cell_type": "code",
   "execution_count": null,
   "metadata": {
    "colab": {
     "base_uri": "https://localhost:8080/",
     "height": 1000
    },
    "id": "0Ek3ZueqZN8G",
    "outputId": "381cdcc7-73af-41fa-8b1c-0d004bd26fd9"
   },
   "outputs": [
    {
     "name": "stdout",
     "output_type": "stream",
     "text": [
      "Epoch 1/100 done, Train Loss: 0.09079543775232343\n",
      "Epoch 2/100 done, Train Loss: 0.05245037966062835\n",
      "Epoch 3/100 done, Train Loss: 0.04041586770787502\n",
      "Epoch 4/100 done, Train Loss: 0.03613393477051592\n",
      "Epoch 5/100 done, Train Loss: 0.03274728300232233\n",
      "Epoch 6/100 done, Train Loss: 0.030337757954727894\n",
      "Epoch 7/100 done, Train Loss: 0.028873893885765407\n",
      "Epoch 8/100 done, Train Loss: 0.027928811237597342\n",
      "Epoch 9/100 done, Train Loss: 0.027129136706372903\n",
      "Epoch 10/100 done, Train Loss: 0.026282754620049753\n",
      "Epoch 11/100 done, Train Loss: 0.025380605753089324\n",
      "Epoch 12/100 done, Train Loss: 0.024705254896445605\n",
      "Epoch 13/100 done, Train Loss: 0.024168493615860216\n",
      "Epoch 14/100 done, Train Loss: 0.02368076018374163\n",
      "Epoch 15/100 done, Train Loss: 0.023257413616860362\n",
      "Epoch 16/100 done, Train Loss: 0.02284488646207486\n",
      "Epoch 17/100 done, Train Loss: 0.02240209451859301\n",
      "Epoch 18/100 done, Train Loss: 0.022074699251699813\n",
      "Epoch 19/100 done, Train Loss: 0.02175089713514938\n",
      "Epoch 20/100 done, Train Loss: 0.021444117649793815\n",
      "Epoch 21/100 done, Train Loss: 0.021137474657716235\n",
      "Epoch 22/100 done, Train Loss: 0.020855792895226394\n",
      "Epoch 23/100 done, Train Loss: 0.020590612197667838\n",
      "Epoch 24/100 done, Train Loss: 0.020358626670558638\n",
      "Epoch 25/100 done, Train Loss: 0.020192176768566963\n",
      "Epoch 26/100 done, Train Loss: 0.020005723359617415\n",
      "Epoch 27/100 done, Train Loss: 0.019866133319072173\n",
      "Epoch 28/100 done, Train Loss: 0.019725629323956415\n",
      "Epoch 29/100 done, Train Loss: 0.019593009300367885\n",
      "Epoch 30/100 done, Train Loss: 0.019440280433246058\n",
      "Epoch 31/100 done, Train Loss: 0.019341364036947584\n",
      "Epoch 32/100 done, Train Loss: 0.01921857144118728\n",
      "Epoch 33/100 done, Train Loss: 0.019124591043213013\n",
      "Epoch 34/100 done, Train Loss: 0.019062445665246695\n",
      "Epoch 35/100 done, Train Loss: 0.01894179407759824\n",
      "Epoch 36/100 done, Train Loss: 0.018862607269783244\n",
      "Epoch 37/100 done, Train Loss: 0.018772722433439755\n",
      "Epoch 38/100 done, Train Loss: 0.01871103983698979\n",
      "Epoch 39/100 done, Train Loss: 0.018620941754590222\n",
      "Epoch 40/100 done, Train Loss: 0.018551774982598943\n",
      "Epoch 41/100 done, Train Loss: 0.018494699535842554\n",
      "Epoch 42/100 done, Train Loss: 0.018400254512774165\n",
      "Epoch 43/100 done, Train Loss: 0.018317189270193122\n",
      "Epoch 44/100 done, Train Loss: 0.018191727410384613\n",
      "Epoch 45/100 done, Train Loss: 0.018053024141469486\n",
      "Epoch 46/100 done, Train Loss: 0.017913781614141134\n",
      "Epoch 47/100 done, Train Loss: 0.01781866967294339\n",
      "Epoch 48/100 done, Train Loss: 0.017689084362474603\n",
      "Epoch 49/100 done, Train Loss: 0.017576776586725632\n",
      "Epoch 50/100 done, Train Loss: 0.01749020476211208\n",
      "Epoch 51/100 done, Train Loss: 0.017418346421403413\n",
      "Epoch 52/100 done, Train Loss: 0.017308514721939484\n",
      "Epoch 53/100 done, Train Loss: 0.01723000452206044\n",
      "Epoch 54/100 done, Train Loss: 0.01717053893572214\n",
      "Epoch 55/100 done, Train Loss: 0.017076683672227238\n",
      "Epoch 56/100 done, Train Loss: 0.017024048582620334\n",
      "Epoch 57/100 done, Train Loss: 0.016938150997416034\n",
      "Epoch 58/100 done, Train Loss: 0.01689623414240277\n",
      "Epoch 59/100 done, Train Loss: 0.01680618500359647\n",
      "Epoch 60/100 done, Train Loss: 0.01675401372037785\n",
      "Epoch 61/100 done, Train Loss: 0.01665574620684617\n",
      "Epoch 62/100 done, Train Loss: 0.016626045888412554\n",
      "Epoch 63/100 done, Train Loss: 0.016578140535099303\n",
      "Epoch 64/100 done, Train Loss: 0.016495960572721367\n",
      "Epoch 65/100 done, Train Loss: 0.016441895836822436\n",
      "Epoch 66/100 done, Train Loss: 0.016395366051718735\n",
      "Epoch 67/100 done, Train Loss: 0.016336345947416106\n",
      "Epoch 68/100 done, Train Loss: 0.016303327536986222\n",
      "Epoch 69/100 done, Train Loss: 0.01625012039008502\n",
      "Epoch 70/100 done, Train Loss: 0.016177244822274815\n",
      "Epoch 71/100 done, Train Loss: 0.01616491362993544\n",
      "Epoch 72/100 done, Train Loss: 0.01611266466976642\n",
      "Epoch 73/100 done, Train Loss: 0.01604352222656639\n",
      "Epoch 74/100 done, Train Loss: 0.01600782155468631\n",
      "Epoch 75/100 done, Train Loss: 0.015971865532985307\n",
      "Epoch 76/100 done, Train Loss: 0.015908068827140697\n",
      "Epoch 77/100 done, Train Loss: 0.01586056978966724\n",
      "Epoch 78/100 done, Train Loss: 0.015834096784602732\n",
      "Epoch 79/100 done, Train Loss: 0.01580280861182714\n",
      "Epoch 80/100 done, Train Loss: 0.015728919417671836\n",
      "Epoch 81/100 done, Train Loss: 0.015715426802325346\n",
      "Epoch 82/100 done, Train Loss: 0.015652864788297232\n",
      "Epoch 83/100 done, Train Loss: 0.01562718484343357\n",
      "Epoch 84/100 done, Train Loss: 0.015580361369956745\n",
      "Epoch 85/100 done, Train Loss: 0.015558118603632607\n",
      "Epoch 86/100 done, Train Loss: 0.015481008157153123\n",
      "Epoch 87/100 done, Train Loss: 0.01547057691708884\n",
      "Epoch 88/100 done, Train Loss: 0.015414201345840518\n",
      "Epoch 89/100 done, Train Loss: 0.01537334656024677\n",
      "Epoch 90/100 done, Train Loss: 0.015359935623022203\n",
      "Epoch 91/100 done, Train Loss: 0.015300516623667586\n",
      "Epoch 92/100 done, Train Loss: 0.01527008697895842\n",
      "Epoch 93/100 done, Train Loss: 0.015232654036960004\n",
      "Epoch 94/100 done, Train Loss: 0.015188507959175132\n",
      "Epoch 95/100 done, Train Loss: 0.01515224423993591\n",
      "Epoch 96/100 done, Train Loss: 0.015116859960321501\n",
      "Epoch 97/100 done, Train Loss: 0.01508145496220598\n",
      "Epoch 98/100 done, Train Loss: 0.015049076250617846\n",
      "Epoch 99/100 done, Train Loss: 0.015020263074436633\n",
      "Epoch 100/100 done, Train Loss: 0.01498917048476441\n",
      "Model Trained in time: 397.8065345287323\n"
     ]
    },
    {
     "data": {
      "image/png": "[encoded data removed]",
      "text/plain": [
       "<Figure size 640x480 with 1 Axes>"
      ]
     },
     "metadata": {},
     "output_type": "display_data"
    }
   ],
   "source": [
    "model = MLP_Autoencoder(act_func='relu', lr=1, dropout=0.5, optimiser='sgd').to(device)\n",
    "\n",
    "# Training the model\n",
    "start_time = time.time()\n",
    "train_loss_arr, val_loss_arr = model.train_model(flattened_train_imgs, flattened_train_imgs, flattened_val_imgs, flattened_val_imgs, epochs=n_epochs)\n",
    "torch.save(model.state_dict(), \"/content/drive/MyDrive/smai_a4/saved_models/mlp_autoencoder/model.pth\")\n",
    "end_time = time.time()\n",
    "print(\"Model Trained in time:\", end_time - start_time)\n",
    "\n",
    "plt.plot(train_loss_arr, color='blue', marker='o', label=\"Train Loss\")\n",
    "plt.plot(val_loss_arr, color='orange', marker='o', label=\"Val Loss\")\n",
    "plt.legend()\n",
    "plt.xlabel(\"Epochs\")\n",
    "plt.ylabel(\"Loss\")\n",
    "plt.title(\"Loss vs Epochs\")\n",
    "plt.show()\n",
    "plt.close()"
   ]
  },
  {
   "cell_type": "markdown",
   "metadata": {
    "id": "SQflc6WSMxhn"
   },
   "source": [
    "## Visualising reconstructed output"
   ]
  },
  {
   "cell_type": "code",
   "execution_count": null,
   "metadata": {
    "colab": {
     "base_uri": "https://localhost:8080/",
     "height": 284
    },
    "id": "taj8qHmemvz6",
    "outputId": "33278dea-05ad-4345-8f4c-026985c2657c"
   },
   "outputs": [
    {
     "data": {
      "image/png": "[encoded data removed]",
      "text/plain": [
       "<Figure size 2000x400 with 20 Axes>"
      ]
     },
     "metadata": {},
     "output_type": "display_data"
    }
   ],
   "source": [
    "plotting_imgs = flattened_test_imgs[:10]\n",
    "model.eval()\n",
    "with torch.no_grad():\n",
    "    reconstructed_imgs = model.forward(torch.from_numpy(plotting_imgs).float().to(device))\n",
    "\n",
    "fig, ax = plt.subplots(2, 10, figsize=(20, 4))\n",
    "for i in range(10):\n",
    "    ax[0][i].imshow(plotting_imgs[i].reshape(28, 28), cmap=\"gray\")\n",
    "    ax[0][i].axis('off')\n",
    "    ax[1][i].imshow(reconstructed_imgs[i].detach().cpu().numpy().reshape(28, 28), cmap=\"gray\")\n",
    "    ax[1][i].axis('off')\n",
    "plt.show()\n",
    "# plt.savefig(\"/content/drive/MyDrive/smai_a4/figures/mlp_autoencoder/org_v_recon_img.png\")\n",
    "plt.close()"
   ]
  },
  {
   "cell_type": "markdown",
   "metadata": {
    "id": "H0NSHL7lmSMU"
   },
   "source": [
    "> We can see that MLP Autoencoder performs better at reconstructing the images than CNN autoencoder as it has less reconstruction loss as well."
   ]
  }
 ],
 "metadata": {
  "accelerator": "GPU",
  "colab": {
   "gpuType": "T4",
   "provenance": []
  },
  "kernelspec": {
   "display_name": "Python 3",
   "name": "python3"
  },
  "language_info": {
   "name": "python"
  }
 },
 "nbformat": 4,
 "nbformat_minor": 0
}
